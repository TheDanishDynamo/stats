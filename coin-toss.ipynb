{
 "cells": [
  {
   "cell_type": "markdown",
   "metadata": {},
   "source": [
    "# Basic Statistics with Coin Toss\n",
    "\n",
    "This example illustrates basic calculation of probability what are the chances of getting a head or a tail in a coin toss.\n",
    "\n",
    "## Requirements\n",
    "\n",
    "### R1 \n",
    "Create notebook (this) to illustrate calculation with code. Using Markdown.\n",
    "\n",
    "### R2\n",
    "Create python code in this notebook to illustrate brute force calculation with code.\n",
    "\n",
    "## Technical Design\n",
    "\n",
    "### R1T1 (Prequsites)\n",
    "\n",
    "1. Install python 3\n",
    "2. Install jupyter\n",
    "3. Run jupyter\n",
    "4. Create a notebook, name it coin-toss(.ipynb)\n",
    "\n",
    "### R2T1 (MVP)\n",
    "\n",
    "1. Insert code cell in notebook\n",
    "2. Logic shall use random module choice method to simulate tossing a coin\n",
    "3. Input is number of iterations (i)\n",
    "4. Output is (i,h,t) number of heads (h) and tails (t) as percentage of i\n",
    "\n",
    "### R2T2 (Results to File)\n",
    "\n",
    "1. Save output from R2T1 in file and link to that file in markdown.\n",
    "\n",
    "### R2T3 (Busy Spinner - GIF)\n",
    "\n",
    "1. When the code runs show a GIF spinner, when the code ends hide GIF https://gifer.com/en/cF9\n",
    "\n",
    "### R2T4 (Busy Spinner - Progress 1-i with option to stop)\n",
    "\n",
    "1. When the code runs show a progress indicator with options to stop the code\n",
    "\n",
    "\n"
   ]
  },
  {
   "cell_type": "code",
   "execution_count": 1,
   "metadata": {},
   "outputs": [
    {
     "name": "stdout",
     "output_type": "stream",
     "text": [
      "       i        h        t\n",
      "1000000000 499996970 500003030\n"
     ]
    }
   ],
   "source": [
    "import random\n",
    "h = t = 0\n",
    "i = 1000000000\n",
    "for i in range(1,i+1):\n",
    "    if random.choice(['heads','tails']) == 'heads':\n",
    "        h = h + 1\n",
    "    else:\n",
    "        t = t + 1\n",
    "        \n",
    "print('{:>8} {:>8} {:>8}'.format(*['i','h','t']))\n",
    "print('{:>8} {:>8} {:>8}'.format(*[i,h,t]))"
   ]
  },
  {
   "cell_type": "code",
   "execution_count": null,
   "metadata": {},
   "outputs": [],
   "source": [
    "import os.path\n",
    "out = 'output.txt'\n",
    "fx = os.path.isfile(out)\n",
    "# Append the result to file\n",
    "with open(out, 'a+') as f:\n",
    "    if fx != True: f.write('i,h,t\\n') # if file does not exist write header\n",
    "    f.write(','.join(str(x) for x in [i,h,t]) + '\\n')\n",
    "# Read the file back\n",
    "with open(out, 'r') as f:\n",
    "    print(f.read())"
   ]
  },
  {
   "cell_type": "code",
   "execution_count": null,
   "metadata": {},
   "outputs": [],
   "source": []
  }
 ],
 "metadata": {
  "kernelspec": {
   "display_name": "Python 3",
   "language": "python",
   "name": "python3"
  },
  "language_info": {
   "codemirror_mode": {
    "name": "ipython",
    "version": 3
   },
   "file_extension": ".py",
   "mimetype": "text/x-python",
   "name": "python",
   "nbconvert_exporter": "python",
   "pygments_lexer": "ipython3",
   "version": "3.6.7"
  }
 },
 "nbformat": 4,
 "nbformat_minor": 2
}
